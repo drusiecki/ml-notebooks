{
 "cells": [
  {
   "cell_type": "code",
   "execution_count": 2,
   "id": "0a480f26",
   "metadata": {},
   "outputs": [],
   "source": [
    "import pandas as pd\n",
    "import numpy as np\n",
    "\n",
    "import matplotlib.pyplot as plt"
   ]
  },
  {
   "cell_type": "code",
   "execution_count": 3,
   "id": "5d07e353",
   "metadata": {},
   "outputs": [],
   "source": [
    "df = pd.read_csv('dds_ch2_nyt/nyt1.csv')"
   ]
  },
  {
   "cell_type": "code",
   "execution_count": 41,
   "id": "82760aa4",
   "metadata": {},
   "outputs": [],
   "source": [
    "df_list = []\n",
    "for day in range(1, 32):\n",
    "    df = pd.read_csv('dds_ch2_nyt/nyt' + str(day) + '.csv')\n",
    "    df['Day'] = day\n",
    "    df_list.append(df)"
   ]
  },
  {
   "cell_type": "code",
   "execution_count": 42,
   "id": "dcd72a48",
   "metadata": {},
   "outputs": [],
   "source": [
    "df = pd.concat(df_list)"
   ]
  },
  {
   "cell_type": "code",
   "execution_count": 50,
   "id": "9a0bb7bb",
   "metadata": {},
   "outputs": [],
   "source": [
    "df.index = pd.Series(range(len(df)))"
   ]
  },
  {
   "cell_type": "code",
   "execution_count": 4,
   "id": "2fc6c375",
   "metadata": {},
   "outputs": [
    {
     "data": {
      "text/html": [
       "<div>\n",
       "<style scoped>\n",
       "    .dataframe tbody tr th:only-of-type {\n",
       "        vertical-align: middle;\n",
       "    }\n",
       "\n",
       "    .dataframe tbody tr th {\n",
       "        vertical-align: top;\n",
       "    }\n",
       "\n",
       "    .dataframe thead th {\n",
       "        text-align: right;\n",
       "    }\n",
       "</style>\n",
       "<table border=\"1\" class=\"dataframe\">\n",
       "  <thead>\n",
       "    <tr style=\"text-align: right;\">\n",
       "      <th></th>\n",
       "      <th>Age</th>\n",
       "      <th>Gender</th>\n",
       "      <th>Impressions</th>\n",
       "      <th>Clicks</th>\n",
       "      <th>Signed_In</th>\n",
       "    </tr>\n",
       "  </thead>\n",
       "  <tbody>\n",
       "    <tr>\n",
       "      <th>count</th>\n",
       "      <td>458441.000000</td>\n",
       "      <td>458441.000000</td>\n",
       "      <td>458441.000000</td>\n",
       "      <td>458441.000000</td>\n",
       "      <td>458441.000000</td>\n",
       "    </tr>\n",
       "    <tr>\n",
       "      <th>mean</th>\n",
       "      <td>29.482551</td>\n",
       "      <td>0.367037</td>\n",
       "      <td>5.007316</td>\n",
       "      <td>0.092594</td>\n",
       "      <td>0.700930</td>\n",
       "    </tr>\n",
       "    <tr>\n",
       "      <th>std</th>\n",
       "      <td>23.607034</td>\n",
       "      <td>0.481997</td>\n",
       "      <td>2.239349</td>\n",
       "      <td>0.309973</td>\n",
       "      <td>0.457851</td>\n",
       "    </tr>\n",
       "    <tr>\n",
       "      <th>min</th>\n",
       "      <td>0.000000</td>\n",
       "      <td>0.000000</td>\n",
       "      <td>0.000000</td>\n",
       "      <td>0.000000</td>\n",
       "      <td>0.000000</td>\n",
       "    </tr>\n",
       "    <tr>\n",
       "      <th>25%</th>\n",
       "      <td>0.000000</td>\n",
       "      <td>0.000000</td>\n",
       "      <td>3.000000</td>\n",
       "      <td>0.000000</td>\n",
       "      <td>0.000000</td>\n",
       "    </tr>\n",
       "    <tr>\n",
       "      <th>50%</th>\n",
       "      <td>31.000000</td>\n",
       "      <td>0.000000</td>\n",
       "      <td>5.000000</td>\n",
       "      <td>0.000000</td>\n",
       "      <td>1.000000</td>\n",
       "    </tr>\n",
       "    <tr>\n",
       "      <th>75%</th>\n",
       "      <td>48.000000</td>\n",
       "      <td>1.000000</td>\n",
       "      <td>6.000000</td>\n",
       "      <td>0.000000</td>\n",
       "      <td>1.000000</td>\n",
       "    </tr>\n",
       "    <tr>\n",
       "      <th>max</th>\n",
       "      <td>108.000000</td>\n",
       "      <td>1.000000</td>\n",
       "      <td>20.000000</td>\n",
       "      <td>4.000000</td>\n",
       "      <td>1.000000</td>\n",
       "    </tr>\n",
       "  </tbody>\n",
       "</table>\n",
       "</div>"
      ],
      "text/plain": [
       "                 Age         Gender    Impressions         Clicks  \\\n",
       "count  458441.000000  458441.000000  458441.000000  458441.000000   \n",
       "mean       29.482551       0.367037       5.007316       0.092594   \n",
       "std        23.607034       0.481997       2.239349       0.309973   \n",
       "min         0.000000       0.000000       0.000000       0.000000   \n",
       "25%         0.000000       0.000000       3.000000       0.000000   \n",
       "50%        31.000000       0.000000       5.000000       0.000000   \n",
       "75%        48.000000       1.000000       6.000000       0.000000   \n",
       "max       108.000000       1.000000      20.000000       4.000000   \n",
       "\n",
       "           Signed_In  \n",
       "count  458441.000000  \n",
       "mean        0.700930  \n",
       "std         0.457851  \n",
       "min         0.000000  \n",
       "25%         0.000000  \n",
       "50%         1.000000  \n",
       "75%         1.000000  \n",
       "max         1.000000  "
      ]
     },
     "execution_count": 4,
     "metadata": {},
     "output_type": "execute_result"
    }
   ],
   "source": [
    "df.describe()"
   ]
  },
  {
   "cell_type": "code",
   "execution_count": 5,
   "id": "99b36a35",
   "metadata": {},
   "outputs": [],
   "source": [
    "df['Gender_cat'] =  df['Gender'].astype('category')"
   ]
  },
  {
   "cell_type": "code",
   "execution_count": 6,
   "id": "8ac2ad55",
   "metadata": {},
   "outputs": [],
   "source": [
    "df['Age_cat'] = pd.cut(df['Age'], [0, 18, 24, 34, 44, 54, 64, np.inf], right=True, include_lowest=True)"
   ]
  },
  {
   "cell_type": "code",
   "execution_count": 7,
   "id": "64be8356",
   "metadata": {},
   "outputs": [],
   "source": [
    "df['Age_cat'] = df['Age_cat'].cat.rename_categories(['<18', '18-24', '25-34', '35-44', '45-54', '55-64', '65+'])"
   ]
  },
  {
   "cell_type": "code",
   "execution_count": 8,
   "id": "085b076f",
   "metadata": {},
   "outputs": [],
   "source": [
    "clicks_by_age = df.groupby(['Age_cat'])['Clicks'].sum()\n",
    "\n"
   ]
  },
  {
   "cell_type": "code",
   "execution_count": 67,
   "id": "f9ddfec1",
   "metadata": {},
   "outputs": [],
   "source": [
    "sums = df.groupby(['Age_cat', 'Gender_cat', 'Signed_In']).agg(count=('Age', 'count'), \n",
    "                                                              clicks=('Clicks', 'sum'),\n",
    "                                                             impressions=('Impressions', 'sum'))"
   ]
  },
  {
   "cell_type": "code",
   "execution_count": 87,
   "id": "9305c08c",
   "metadata": {},
   "outputs": [],
   "source": [
    "by_age = sums.groupby(['Age_cat']).sum()"
   ]
  },
  {
   "cell_type": "code",
   "execution_count": 90,
   "id": "797c879c",
   "metadata": {},
   "outputs": [],
   "source": [
    "by_age['CTR'] = by_age['clicks']/ by_age['impressions'] "
   ]
  },
  {
   "cell_type": "code",
   "execution_count": 94,
   "id": "2ffce179",
   "metadata": {},
   "outputs": [],
   "source": [
    "by_age['Index'] = np.arange(len(by_age))"
   ]
  },
  {
   "cell_type": "code",
   "execution_count": 95,
   "id": "73d8b31b",
   "metadata": {},
   "outputs": [
    {
     "data": {
      "text/html": [
       "<div>\n",
       "<style scoped>\n",
       "    .dataframe tbody tr th:only-of-type {\n",
       "        vertical-align: middle;\n",
       "    }\n",
       "\n",
       "    .dataframe tbody tr th {\n",
       "        vertical-align: top;\n",
       "    }\n",
       "\n",
       "    .dataframe thead th {\n",
       "        text-align: right;\n",
       "    }\n",
       "</style>\n",
       "<table border=\"1\" class=\"dataframe\">\n",
       "  <thead>\n",
       "    <tr style=\"text-align: right;\">\n",
       "      <th></th>\n",
       "      <th>count</th>\n",
       "      <th>clicks</th>\n",
       "      <th>impressions</th>\n",
       "      <th>CTR</th>\n",
       "      <th>Index</th>\n",
       "    </tr>\n",
       "    <tr>\n",
       "      <th>Age_cat</th>\n",
       "      <th></th>\n",
       "      <th></th>\n",
       "      <th></th>\n",
       "      <th></th>\n",
       "      <th></th>\n",
       "    </tr>\n",
       "  </thead>\n",
       "  <tbody>\n",
       "    <tr>\n",
       "      <th>&lt;18</th>\n",
       "      <td>156358</td>\n",
       "      <td>22003</td>\n",
       "      <td>781723</td>\n",
       "      <td>0.028147</td>\n",
       "      <td>0</td>\n",
       "    </tr>\n",
       "    <tr>\n",
       "      <th>18-24</th>\n",
       "      <td>35270</td>\n",
       "      <td>1709</td>\n",
       "      <td>176584</td>\n",
       "      <td>0.009678</td>\n",
       "      <td>1</td>\n",
       "    </tr>\n",
       "    <tr>\n",
       "      <th>25-34</th>\n",
       "      <td>58174</td>\n",
       "      <td>2937</td>\n",
       "      <td>290511</td>\n",
       "      <td>0.010110</td>\n",
       "      <td>2</td>\n",
       "    </tr>\n",
       "    <tr>\n",
       "      <th>35-44</th>\n",
       "      <td>70860</td>\n",
       "      <td>3662</td>\n",
       "      <td>355824</td>\n",
       "      <td>0.010292</td>\n",
       "      <td>3</td>\n",
       "    </tr>\n",
       "    <tr>\n",
       "      <th>45-54</th>\n",
       "      <td>64288</td>\n",
       "      <td>3232</td>\n",
       "      <td>322109</td>\n",
       "      <td>0.010034</td>\n",
       "      <td>4</td>\n",
       "    </tr>\n",
       "    <tr>\n",
       "      <th>55-64</th>\n",
       "      <td>44738</td>\n",
       "      <td>4556</td>\n",
       "      <td>224688</td>\n",
       "      <td>0.020277</td>\n",
       "      <td>5</td>\n",
       "    </tr>\n",
       "    <tr>\n",
       "      <th>65+</th>\n",
       "      <td>28753</td>\n",
       "      <td>4350</td>\n",
       "      <td>144120</td>\n",
       "      <td>0.030183</td>\n",
       "      <td>6</td>\n",
       "    </tr>\n",
       "  </tbody>\n",
       "</table>\n",
       "</div>"
      ],
      "text/plain": [
       "          count  clicks  impressions       CTR  Index\n",
       "Age_cat                                              \n",
       "<18      156358   22003       781723  0.028147      0\n",
       "18-24     35270    1709       176584  0.009678      1\n",
       "25-34     58174    2937       290511  0.010110      2\n",
       "35-44     70860    3662       355824  0.010292      3\n",
       "45-54     64288    3232       322109  0.010034      4\n",
       "55-64     44738    4556       224688  0.020277      5\n",
       "65+       28753    4350       144120  0.030183      6"
      ]
     },
     "execution_count": 95,
     "metadata": {},
     "output_type": "execute_result"
    }
   ],
   "source": [
    "by_age"
   ]
  },
  {
   "cell_type": "code",
   "execution_count": 111,
   "id": "e111782d",
   "metadata": {},
   "outputs": [
    {
     "data": {
      "text/html": [
       "<div>\n",
       "<style scoped>\n",
       "    .dataframe tbody tr th:only-of-type {\n",
       "        vertical-align: middle;\n",
       "    }\n",
       "\n",
       "    .dataframe tbody tr th {\n",
       "        vertical-align: top;\n",
       "    }\n",
       "\n",
       "    .dataframe thead th {\n",
       "        text-align: right;\n",
       "    }\n",
       "</style>\n",
       "<table border=\"1\" class=\"dataframe\">\n",
       "  <thead>\n",
       "    <tr style=\"text-align: right;\">\n",
       "      <th></th>\n",
       "      <th>count</th>\n",
       "      <th>clicks</th>\n",
       "      <th>impressions</th>\n",
       "      <th>CTR</th>\n",
       "      <th>Index</th>\n",
       "    </tr>\n",
       "    <tr>\n",
       "      <th>Age_cat</th>\n",
       "      <th></th>\n",
       "      <th></th>\n",
       "      <th></th>\n",
       "      <th></th>\n",
       "      <th></th>\n",
       "    </tr>\n",
       "  </thead>\n",
       "  <tbody>\n",
       "    <tr>\n",
       "      <th>&lt;18</th>\n",
       "      <td>156358</td>\n",
       "      <td>22003</td>\n",
       "      <td>781723</td>\n",
       "      <td>0.028147</td>\n",
       "      <td>0</td>\n",
       "    </tr>\n",
       "    <tr>\n",
       "      <th>18-24</th>\n",
       "      <td>35270</td>\n",
       "      <td>1709</td>\n",
       "      <td>176584</td>\n",
       "      <td>0.009678</td>\n",
       "      <td>1</td>\n",
       "    </tr>\n",
       "    <tr>\n",
       "      <th>25-34</th>\n",
       "      <td>58174</td>\n",
       "      <td>2937</td>\n",
       "      <td>290511</td>\n",
       "      <td>0.010110</td>\n",
       "      <td>2</td>\n",
       "    </tr>\n",
       "    <tr>\n",
       "      <th>35-44</th>\n",
       "      <td>70860</td>\n",
       "      <td>3662</td>\n",
       "      <td>355824</td>\n",
       "      <td>0.010292</td>\n",
       "      <td>3</td>\n",
       "    </tr>\n",
       "    <tr>\n",
       "      <th>45-54</th>\n",
       "      <td>64288</td>\n",
       "      <td>3232</td>\n",
       "      <td>322109</td>\n",
       "      <td>0.010034</td>\n",
       "      <td>4</td>\n",
       "    </tr>\n",
       "    <tr>\n",
       "      <th>55-64</th>\n",
       "      <td>44738</td>\n",
       "      <td>4556</td>\n",
       "      <td>224688</td>\n",
       "      <td>0.020277</td>\n",
       "      <td>5</td>\n",
       "    </tr>\n",
       "    <tr>\n",
       "      <th>65+</th>\n",
       "      <td>28753</td>\n",
       "      <td>4350</td>\n",
       "      <td>144120</td>\n",
       "      <td>0.030183</td>\n",
       "      <td>6</td>\n",
       "    </tr>\n",
       "  </tbody>\n",
       "</table>\n",
       "</div>"
      ],
      "text/plain": [
       "          count  clicks  impressions       CTR  Index\n",
       "Age_cat                                              \n",
       "<18      156358   22003       781723  0.028147      0\n",
       "18-24     35270    1709       176584  0.009678      1\n",
       "25-34     58174    2937       290511  0.010110      2\n",
       "35-44     70860    3662       355824  0.010292      3\n",
       "45-54     64288    3232       322109  0.010034      4\n",
       "55-64     44738    4556       224688  0.020277      5\n",
       "65+       28753    4350       144120  0.030183      6"
      ]
     },
     "execution_count": 111,
     "metadata": {},
     "output_type": "execute_result"
    }
   ],
   "source": [
    "by_age"
   ]
  },
  {
   "cell_type": "code",
   "execution_count": null,
   "id": "052485a8",
   "metadata": {},
   "outputs": [],
   "source": [
    "young = sums.query('Age_cat == \"<18\"')"
   ]
  },
  {
   "cell_type": "markdown",
   "id": "d30ae071",
   "metadata": {},
   "source": [
    "# Impressions by age group"
   ]
  },
  {
   "cell_type": "code",
   "execution_count": 113,
   "id": "9026d18e",
   "metadata": {},
   "outputs": [
    {
     "data": {
      "image/png": "[encoded data removed]",
      "text/plain": [
       "<Figure size 640x480 with 1 Axes>"
      ]
     },
     "metadata": {},
     "output_type": "display_data"
    }
   ],
   "source": [
    "fig, ax = plt.subplots(layout='constrained')\n",
    "rects = ax.bar(by_age['Index'], by_age['impressions'], label=by_age.index)\n",
    "ax.bar_label(rects, padding=1)#, fmt='%.5f')\n",
    "\n",
    "ax.set_ylabel('Impressions');\n",
    "ax.set_title('Impressions by age group for day 1');\n",
    "ax.set_xticks(by_age['Index'], by_age.index);"
   ]
  },
  {
   "cell_type": "markdown",
   "id": "b7840c7d",
   "metadata": {},
   "source": [
    "# CTR by age group"
   ]
  },
  {
   "cell_type": "code",
   "execution_count": 110,
   "id": "c5ff6f11",
   "metadata": {},
   "outputs": [
    {
     "data": {
      "image/png": "[encoded data removed]",
      "text/plain": [
       "<Figure size 640x480 with 1 Axes>"
      ]
     },
     "metadata": {},
     "output_type": "display_data"
    }
   ],
   "source": [
    "fig, ax = plt.subplots(layout='constrained')\n",
    "rects = ax.bar(by_age['Index'], by_age['CTR'], label=by_age.index)\n",
    "ax.bar_label(rects, padding=1, fmt='%.5f')\n",
    "\n",
    "ax.set_ylabel('CTR');\n",
    "ax.set_title('CTR by age group for day 1');\n",
    "ax.set_xticks(by_age['Index'], by_age.index);"
   ]
  },
  {
   "cell_type": "markdown",
   "id": "5bcdc3b3",
   "metadata": {},
   "source": [
    "# CTR distribution and categories"
   ]
  },
  {
   "cell_type": "code",
   "execution_count": 118,
   "id": "2ae1d285",
   "metadata": {},
   "outputs": [
    {
     "data": {
      "text/plain": [
       "count    458441.000000\n",
       "mean          0.092594\n",
       "std           0.309973\n",
       "min           0.000000\n",
       "0%            0.000000\n",
       "10%           0.000000\n",
       "20%           0.000000\n",
       "30%           0.000000\n",
       "40%           0.000000\n",
       "50%           0.000000\n",
       "60%           0.000000\n",
       "70%           0.000000\n",
       "80%           0.000000\n",
       "90%           0.000000\n",
       "max           4.000000\n",
       "Name: Clicks, dtype: float64"
      ]
     },
     "execution_count": 118,
     "metadata": {},
     "output_type": "execute_result"
    }
   ],
   "source": [
    "df['Clicks'].describe(percentiles=np.arange(10)/10)"
   ]
  },
  {
   "cell_type": "code",
   "execution_count": 136,
   "id": "affe28b9",
   "metadata": {},
   "outputs": [
    {
     "data": {
      "text/plain": [
       "Clicks\n",
       "0    418603\n",
       "1     37372\n",
       "2      2330\n",
       "3       127\n",
       "4         9\n",
       "Name: Age, dtype: int64"
      ]
     },
     "execution_count": 136,
     "metadata": {},
     "output_type": "execute_result"
    }
   ],
   "source": [
    "df.groupby('Clicks').count()['Age']"
   ]
  },
  {
   "cell_type": "markdown",
   "id": "5d6e5f64",
   "metadata": {},
   "source": [
    "### Vast majority of people don't click at all..."
   ]
  },
  {
   "cell_type": "code",
   "execution_count": 126,
   "id": "a25849b7",
   "metadata": {},
   "outputs": [],
   "source": [
    "signed_in_percentage = df.groupby(['Signed_In']).count()['Age']"
   ]
  },
  {
   "cell_type": "code",
   "execution_count": 127,
   "id": "5ce8da63",
   "metadata": {},
   "outputs": [
    {
     "data": {
      "text/plain": [
       "Signed_In\n",
       "0    137106\n",
       "1    321335\n",
       "Name: Age, dtype: int64"
      ]
     },
     "execution_count": 127,
     "metadata": {},
     "output_type": "execute_result"
    }
   ],
   "source": [
    "signed_in_percentage"
   ]
  },
  {
   "cell_type": "code",
   "execution_count": 134,
   "id": "63acf34a",
   "metadata": {},
   "outputs": [
    {
     "data": {
      "image/png": "[encoded data removed]",
      "text/plain": [
       "<Figure size 640x480 with 1 Axes>"
      ]
     },
     "metadata": {},
     "output_type": "display_data"
    }
   ],
   "source": [
    "plt.pie(signed_in_percentage, labels=['Signed In', 'Not Signed In']);"
   ]
  },
  {
   "cell_type": "markdown",
   "id": "ed528d0f",
   "metadata": {},
   "source": [
    "## Check if there are clicks without impressions"
   ]
  },
  {
   "cell_type": "code",
   "execution_count": 135,
   "id": "636e692f",
   "metadata": {},
   "outputs": [
    {
     "data": {
      "text/html": [
       "<div>\n",
       "<style scoped>\n",
       "    .dataframe tbody tr th:only-of-type {\n",
       "        vertical-align: middle;\n",
       "    }\n",
       "\n",
       "    .dataframe tbody tr th {\n",
       "        vertical-align: top;\n",
       "    }\n",
       "\n",
       "    .dataframe thead th {\n",
       "        text-align: right;\n",
       "    }\n",
       "</style>\n",
       "<table border=\"1\" class=\"dataframe\">\n",
       "  <thead>\n",
       "    <tr style=\"text-align: right;\">\n",
       "      <th></th>\n",
       "      <th>Age</th>\n",
       "      <th>Gender</th>\n",
       "      <th>Impressions</th>\n",
       "      <th>Clicks</th>\n",
       "      <th>Signed_In</th>\n",
       "      <th>Gender_cat</th>\n",
       "      <th>Age_cat</th>\n",
       "    </tr>\n",
       "  </thead>\n",
       "  <tbody>\n",
       "  </tbody>\n",
       "</table>\n",
       "</div>"
      ],
      "text/plain": [
       "Empty DataFrame\n",
       "Columns: [Age, Gender, Impressions, Clicks, Signed_In, Gender_cat, Age_cat]\n",
       "Index: []"
      ]
     },
     "execution_count": 135,
     "metadata": {},
     "output_type": "execute_result"
    }
   ],
   "source": [
    "df[df['Clicks'] > df['Impressions']]"
   ]
  },
  {
   "cell_type": "markdown",
   "id": "e4c7f229",
   "metadata": {},
   "source": [
    "# No..."
   ]
  },
  {
   "cell_type": "markdown",
   "id": "e2078a87",
   "metadata": {},
   "source": [
    "# Check gender stats"
   ]
  },
  {
   "cell_type": "code",
   "execution_count": 141,
   "id": "3dbcfa29",
   "metadata": {},
   "outputs": [],
   "source": [
    "by_gender = df.groupby(['Gender']).agg(clicks=('Clicks', 'sum'), impressions=('Impressions', sum))\n",
    "by_gender['ctr'] = by_gender['clicks'] / by_gender['impressions'] "
   ]
  },
  {
   "cell_type": "code",
   "execution_count": 142,
   "id": "23966b12",
   "metadata": {},
   "outputs": [
    {
     "data": {
      "text/html": [
       "<div>\n",
       "<style scoped>\n",
       "    .dataframe tbody tr th:only-of-type {\n",
       "        vertical-align: middle;\n",
       "    }\n",
       "\n",
       "    .dataframe tbody tr th {\n",
       "        vertical-align: top;\n",
       "    }\n",
       "\n",
       "    .dataframe thead th {\n",
       "        text-align: right;\n",
       "    }\n",
       "</style>\n",
       "<table border=\"1\" class=\"dataframe\">\n",
       "  <thead>\n",
       "    <tr style=\"text-align: right;\">\n",
       "      <th></th>\n",
       "      <th>clicks</th>\n",
       "      <th>impressions</th>\n",
       "      <th>ctr</th>\n",
       "    </tr>\n",
       "    <tr>\n",
       "      <th>Gender</th>\n",
       "      <th></th>\n",
       "      <th></th>\n",
       "      <th></th>\n",
       "    </tr>\n",
       "  </thead>\n",
       "  <tbody>\n",
       "    <tr>\n",
       "      <th>0</th>\n",
       "      <td>30672</td>\n",
       "      <td>1452782</td>\n",
       "      <td>0.021113</td>\n",
       "    </tr>\n",
       "    <tr>\n",
       "      <th>1</th>\n",
       "      <td>11777</td>\n",
       "      <td>842777</td>\n",
       "      <td>0.013974</td>\n",
       "    </tr>\n",
       "  </tbody>\n",
       "</table>\n",
       "</div>"
      ],
      "text/plain": [
       "        clicks  impressions       ctr\n",
       "Gender                               \n",
       "0        30672      1452782  0.021113\n",
       "1        11777       842777  0.013974"
      ]
     },
     "execution_count": 142,
     "metadata": {},
     "output_type": "execute_result"
    }
   ],
   "source": [
    "by_gender"
   ]
  },
  {
   "cell_type": "code",
   "execution_count": 168,
   "id": "f1df98c0",
   "metadata": {},
   "outputs": [
    {
     "data": {
      "image/png": "[encoded data removed]",
      "text/plain": [
       "<Figure size 640x480 with 1 Axes>"
      ]
     },
     "metadata": {},
     "output_type": "display_data"
    }
   ],
   "source": [
    "# plt.bar([1,2], by_gender['ctr'])\n",
    "\n",
    "fig, ax = plt.subplots(layout='constrained')\n",
    "\n",
    "bars = [\n",
    "ax.bar(0, by_gender.loc[0, 'impressions']),\n",
    "ax.bar(1, by_gender.loc[0, 'clicks']),\n",
    "ax.bar(2, by_gender.loc[1, 'impressions']),\n",
    "ax.bar(3, by_gender.loc[1, 'clicks'])]\n",
    "\n",
    "for bar in bars:\n",
    "    ax.bar_label(bar)\n",
    "#     ax.bar_label(rects, padding=3)\n",
    "#     multiplier += 1\n",
    "\n",
    "# Add some text for labels, title and custom x-axis tick labels, etc.\n",
    "ax.set_ylabel('Count');\n",
    "ax.set_title('Impressions and clicks by gender');\n",
    "ax.set_xticks([0.5, 2.5], [\"Women\", \"Men\"]);\n",
    "# ax.legend(loc='best')\n",
    "# ax.set_ylim(0, 250)"
   ]
  },
  {
   "cell_type": "code",
   "execution_count": 158,
   "id": "445b609f",
   "metadata": {},
   "outputs": [
    {
     "data": {
      "text/plain": [
       "[(1, 9), (2, 8), (3, 7)]"
      ]
     },
     "execution_count": 158,
     "metadata": {},
     "output_type": "execute_result"
    }
   ],
   "source": []
  },
  {
   "cell_type": "code",
   "execution_count": null,
   "id": "9c8c275f",
   "metadata": {},
   "outputs": [],
   "source": []
  }
 ],
 "metadata": {
  "kernelspec": {
   "display_name": "Python 3 (ipykernel)",
   "language": "python",
   "name": "python3"
  },
  "language_info": {
   "codemirror_mode": {
    "name": "ipython",
    "version": 3
   },
   "file_extension": ".py",
   "mimetype": "text/x-python",
   "name": "python",
   "nbconvert_exporter": "python",
   "pygments_lexer": "ipython3",
   "version": "3.11.5"
  }
 },
 "nbformat": 4,
 "nbformat_minor": 5
}
